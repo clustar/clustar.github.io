{
 "cells": [
  {
   "cell_type": "markdown",
   "metadata": {},
   "source": [
    "## Getting Started\n",
    "\n",
    "[Astroquery](https://astroquery.readthedocs.io/en/latest/index.html) is a python package that can help us obtain specific FITS files from the [ALMA Science Archive](https://almascience.nrao.edu/aq/). If this package is not already installed, run the following code in the Anaconda terminal.\n",
    "\n",
    "```\n",
    "conda install -c conda-forge astroquery\n",
    "```"
   ]
  },
  {
   "cell_type": "code",
   "execution_count": 1,
   "metadata": {},
   "outputs": [],
   "source": [
    "# Imports\n",
    "import os\n",
    "import numpy as np\n",
    "import pandas as pd\n",
    "import tarfile\n",
    "import shutil\n",
    "\n",
    "import astroquery\n",
    "from astroquery.alma import Alma\n",
    "from astropy.table import Table"
   ]
  },
  {
   "cell_type": "code",
   "execution_count": 2,
   "metadata": {},
   "outputs": [],
   "source": [
    "# Setup\n",
    "alma = Alma()\n",
    "alma.archive_url = 'https://almascience.nrao.edu'"
   ]
  },
  {
   "cell_type": "markdown",
   "metadata": {},
   "source": [
    "## FITS Files from a Single Project\n",
    "\n",
    "Each project in the ALMA Science Archive has an associated \"member ous id\" (MOUS) for unique identification. Given a MOUS, the following series of cells will extract the continuum FITS files from this project. For additional information, please visit this [documentation](https://astroquery.readthedocs.io/en/latest/alma/alma.html#downloading-data) on Astroquery."
   ]
  },
  {
   "cell_type": "code",
   "execution_count": 3,
   "metadata": {},
   "outputs": [],
   "source": [
    "# Specify MOUS.\n",
    "MOUS = 'uid://A001/X2f7/Xe9'\n",
    "\n",
    "# Specify path to store extracted FITS files.\n",
    "PATH = './data'\n",
    "\n",
    "# All FITS files must have these link attributes:\n",
    "INCLUDE = ['pbcor', 'fits']\n",
    "\n",
    "# All FITS files must have at least one of these link attributes:\n",
    "OPTIONAL = ['cont', 'mfs'] \n",
    "\n",
    "# All FITS files cannot have these link attributes:\n",
    "EXCLUDE = ['cube']"
   ]
  },
  {
   "cell_type": "code",
   "execution_count": 4,
   "metadata": {},
   "outputs": [
    {
     "data": {
      "text/plain": [
       "21"
      ]
     },
     "execution_count": 4,
     "metadata": {},
     "output_type": "execute_result"
    }
   ],
   "source": [
    "# Stage data\n",
    "links = alma.stage_data([MOUS], expand_tarfiles=True)['URL']\n",
    "\n",
    "# Process links\n",
    "links = [link for link in links if all(term in link for term in INCLUDE)]\n",
    "links = [link for link in links if any(term in link for term in OPTIONAL)]\n",
    "links = [link for link in links if all(term not in link for term in EXCLUDE)]\n",
    "\n",
    "# Count of FITS files\n",
    "len(links)"
   ]
  },
  {
   "cell_type": "code",
   "execution_count": 5,
   "metadata": {
    "tags": []
   },
   "outputs": [
    {
     "name": "stdout",
     "output_type": "stream",
     "text": [
      "Downloading URL https://almascience.nrao.edu/dataPortal/member.uid___A001_X2f7_Xe9.J1832-2039_ph.spw25.mfs.I.pbcor.fits to ./data\\member.uid___A001_X2f7_Xe9.J1832-2039_ph.spw25.mfs.I.pbcor.fits ... [Done]\n",
      "Downloading URL https://almascience.nrao.edu/dataPortal/member.uid___A001_X2f7_Xe9.J1832-2039_ph.spw27.mfs.I.pbcor.fits to ./data\\member.uid___A001_X2f7_Xe9.J1832-2039_ph.spw27.mfs.I.pbcor.fits ... [Done]\n",
      "Downloading URL https://almascience.nrao.edu/dataPortal/member.uid___A001_X2f7_Xe9.J1832-2039_ph.spw29.mfs.I.pbcor.fits to ./data\\member.uid___A001_X2f7_Xe9.J1832-2039_ph.spw29.mfs.I.pbcor.fits ... [Done]\n",
      "Downloading URL https://almascience.nrao.edu/dataPortal/member.uid___A001_X2f7_Xe9.J1832-2039_ph.spw31.mfs.I.pbcor.fits to ./data\\member.uid___A001_X2f7_Xe9.J1832-2039_ph.spw31.mfs.I.pbcor.fits ... [Done]\n",
      "Downloading URL https://almascience.nrao.edu/dataPortal/member.uid___A001_X2f7_Xe9.J1838-1853_chk.spw25.mfs.I.pbcor.fits to ./data\\member.uid___A001_X2f7_Xe9.J1838-1853_chk.spw25.mfs.I.pbcor.fits ... [Done]\n",
      "Downloading URL https://almascience.nrao.edu/dataPortal/member.uid___A001_X2f7_Xe9.J1838-1853_chk.spw27.mfs.I.pbcor.fits to ./data\\member.uid___A001_X2f7_Xe9.J1838-1853_chk.spw27.mfs.I.pbcor.fits ... [Done]\n",
      "Downloading URL https://almascience.nrao.edu/dataPortal/member.uid___A001_X2f7_Xe9.J1838-1853_chk.spw29.mfs.I.pbcor.fits to ./data\\member.uid___A001_X2f7_Xe9.J1838-1853_chk.spw29.mfs.I.pbcor.fits ... [Done]\n",
      "Downloading URL https://almascience.nrao.edu/dataPortal/member.uid___A001_X2f7_Xe9.J1838-1853_chk.spw31.mfs.I.pbcor.fits to ./data\\member.uid___A001_X2f7_Xe9.J1838-1853_chk.spw31.mfs.I.pbcor.fits ... [Done]\n",
      "Downloading URL https://almascience.nrao.edu/dataPortal/member.uid___A001_X2f7_Xe9.J1845-2200_chk.spw25.mfs.I.pbcor.fits to ./data\\member.uid___A001_X2f7_Xe9.J1845-2200_chk.spw25.mfs.I.pbcor.fits ... [Done]\n",
      "Downloading URL https://almascience.nrao.edu/dataPortal/member.uid___A001_X2f7_Xe9.J1845-2200_chk.spw27.mfs.I.pbcor.fits to ./data\\member.uid___A001_X2f7_Xe9.J1845-2200_chk.spw27.mfs.I.pbcor.fits ... [Done]\n",
      "Downloading URL https://almascience.nrao.edu/dataPortal/member.uid___A001_X2f7_Xe9.J1845-2200_chk.spw29.mfs.I.pbcor.fits to ./data\\member.uid___A001_X2f7_Xe9.J1845-2200_chk.spw29.mfs.I.pbcor.fits ... [Done]\n",
      "Downloading URL https://almascience.nrao.edu/dataPortal/member.uid___A001_X2f7_Xe9.J1845-2200_chk.spw31.mfs.I.pbcor.fits to ./data\\member.uid___A001_X2f7_Xe9.J1845-2200_chk.spw31.mfs.I.pbcor.fits ... [Done]\n",
      "Downloading URL https://almascience.nrao.edu/dataPortal/member.uid___A001_X2f7_Xe9.J1911-2006_ph.spw25.mfs.I.pbcor.fits to ./data\\member.uid___A001_X2f7_Xe9.J1911-2006_ph.spw25.mfs.I.pbcor.fits ... [Done]\n",
      "Downloading URL https://almascience.nrao.edu/dataPortal/member.uid___A001_X2f7_Xe9.J1911-2006_ph.spw27.mfs.I.pbcor.fits to ./data\\member.uid___A001_X2f7_Xe9.J1911-2006_ph.spw27.mfs.I.pbcor.fits ... [Done]\n",
      "Downloading URL https://almascience.nrao.edu/dataPortal/member.uid___A001_X2f7_Xe9.J1911-2006_ph.spw29.mfs.I.pbcor.fits to ./data\\member.uid___A001_X2f7_Xe9.J1911-2006_ph.spw29.mfs.I.pbcor.fits ... [Done]\n",
      "Downloading URL https://almascience.nrao.edu/dataPortal/member.uid___A001_X2f7_Xe9.J1911-2006_ph.spw31.mfs.I.pbcor.fits to ./data\\member.uid___A001_X2f7_Xe9.J1911-2006_ph.spw31.mfs.I.pbcor.fits ... [Done]\n",
      "Downloading URL https://almascience.nrao.edu/dataPortal/member.uid___A001_X2f7_Xe9.J1924-2914_bp.spw25.mfs.I.pbcor.fits to ./data\\member.uid___A001_X2f7_Xe9.J1924-2914_bp.spw25.mfs.I.pbcor.fits ... [Done]\n",
      "Downloading URL https://almascience.nrao.edu/dataPortal/member.uid___A001_X2f7_Xe9.J1924-2914_bp.spw27.mfs.I.pbcor.fits to ./data\\member.uid___A001_X2f7_Xe9.J1924-2914_bp.spw27.mfs.I.pbcor.fits ... [Done]\n",
      "Downloading URL https://almascience.nrao.edu/dataPortal/member.uid___A001_X2f7_Xe9.J1924-2914_bp.spw29.mfs.I.pbcor.fits to ./data\\member.uid___A001_X2f7_Xe9.J1924-2914_bp.spw29.mfs.I.pbcor.fits ... [Done]\n",
      "Downloading URL https://almascience.nrao.edu/dataPortal/member.uid___A001_X2f7_Xe9.J1924-2914_bp.spw31.mfs.I.pbcor.fits to ./data\\member.uid___A001_X2f7_Xe9.J1924-2914_bp.spw31.mfs.I.pbcor.fits ... [Done]\n",
      "Downloading URL https://almascience.nrao.edu/dataPortal/member.uid___A001_X2f7_Xe9.V4332_Sgr_sci.spw25_27_29_31.cont.I.pbcor.fits to ./data\\member.uid___A001_X2f7_Xe9.V4332_Sgr_sci.spw25_27_29_31.cont.I.pbcor.fits ... [Done]\n"
     ]
    },
    {
     "data": {
      "text/plain": [
       "['./data\\\\member.uid___A001_X2f7_Xe9.J1832-2039_ph.spw25.mfs.I.pbcor.fits',\n",
       " './data\\\\member.uid___A001_X2f7_Xe9.J1832-2039_ph.spw27.mfs.I.pbcor.fits',\n",
       " './data\\\\member.uid___A001_X2f7_Xe9.J1832-2039_ph.spw29.mfs.I.pbcor.fits',\n",
       " './data\\\\member.uid___A001_X2f7_Xe9.J1832-2039_ph.spw31.mfs.I.pbcor.fits',\n",
       " './data\\\\member.uid___A001_X2f7_Xe9.J1838-1853_chk.spw25.mfs.I.pbcor.fits',\n",
       " './data\\\\member.uid___A001_X2f7_Xe9.J1838-1853_chk.spw27.mfs.I.pbcor.fits',\n",
       " './data\\\\member.uid___A001_X2f7_Xe9.J1838-1853_chk.spw29.mfs.I.pbcor.fits',\n",
       " './data\\\\member.uid___A001_X2f7_Xe9.J1838-1853_chk.spw31.mfs.I.pbcor.fits',\n",
       " './data\\\\member.uid___A001_X2f7_Xe9.J1845-2200_chk.spw25.mfs.I.pbcor.fits',\n",
       " './data\\\\member.uid___A001_X2f7_Xe9.J1845-2200_chk.spw27.mfs.I.pbcor.fits',\n",
       " './data\\\\member.uid___A001_X2f7_Xe9.J1845-2200_chk.spw29.mfs.I.pbcor.fits',\n",
       " './data\\\\member.uid___A001_X2f7_Xe9.J1845-2200_chk.spw31.mfs.I.pbcor.fits',\n",
       " './data\\\\member.uid___A001_X2f7_Xe9.J1911-2006_ph.spw25.mfs.I.pbcor.fits',\n",
       " './data\\\\member.uid___A001_X2f7_Xe9.J1911-2006_ph.spw27.mfs.I.pbcor.fits',\n",
       " './data\\\\member.uid___A001_X2f7_Xe9.J1911-2006_ph.spw29.mfs.I.pbcor.fits',\n",
       " './data\\\\member.uid___A001_X2f7_Xe9.J1911-2006_ph.spw31.mfs.I.pbcor.fits',\n",
       " './data\\\\member.uid___A001_X2f7_Xe9.J1924-2914_bp.spw25.mfs.I.pbcor.fits',\n",
       " './data\\\\member.uid___A001_X2f7_Xe9.J1924-2914_bp.spw27.mfs.I.pbcor.fits',\n",
       " './data\\\\member.uid___A001_X2f7_Xe9.J1924-2914_bp.spw29.mfs.I.pbcor.fits',\n",
       " './data\\\\member.uid___A001_X2f7_Xe9.J1924-2914_bp.spw31.mfs.I.pbcor.fits',\n",
       " './data\\\\member.uid___A001_X2f7_Xe9.V4332_Sgr_sci.spw25_27_29_31.cont.I.pbcor.fits']"
      ]
     },
     "execution_count": 5,
     "metadata": {},
     "output_type": "execute_result"
    }
   ],
   "source": [
    "# Make folder if directory does not exist.\n",
    "if not os.path.exists(PATH):\n",
    "    os.mkdir(PATH)\n",
    "\n",
    "# Download FITS files.\n",
    "alma.download_files(links, \n",
    "                    savedir=PATH, \n",
    "                    cache=True) # Turn off cache to re-download FITS files."
   ]
  },
  {
   "cell_type": "markdown",
   "metadata": {},
   "source": [
    "## Fits Files from Multiple Projects\n",
    "\n",
    "To programmatically download fits files from multiple projects, you can follow a three step process:\n",
    "\n",
    "1. Get a list of all MOUS IDs for a given science keyword\n",
    "\n",
    "2. Get a list of file links associated with those MOUS IDs\n",
    "\n",
    "3. Download the FITS file from each link\n",
    "\n",
    "We wrote functions for each step with options based on our desired data, but some slight modifications to these functions may be needed depending on intended usage.\n",
    "\n",
    "### Get MOUS IDs for a Science Keyword\n",
    "\n",
    "Note that the science keywords must exactly match one of the keywords listed in the archive's dropdown menu. For example \"Outflows, jets and ionized winds\" is a valid science keyword, but \"outflows\" alone will not work. A full list of science keywords as of this writing is provided at the bottom of this page.\n",
    "\n",
    "In our code, we also include an option to return only data after a specified year in the results."
   ]
  },
  {
   "cell_type": "code",
   "execution_count": null,
   "metadata": {},
   "outputs": [],
   "source": [
    "def get_mous(science_keyword, save_file_path = None, min_year = None):\n",
    "    \"\"\"Get all mous IDs for a given science keyword\n",
    "    Returns list of mous IDs as strings\n",
    "    science_keyword: string search keyword\n",
    "    save_file_path: optional path to save csv of results\n",
    "    min_year: optional param to filter results to only those after a certain year;\n",
    "        can be string or int;\n",
    "        current min year in archive is 2011\n",
    "    \"\"\"\n",
    "\n",
    "    #query alma\n",
    "    full_query = \"select * from ivoa.obscore where science_keyword = '{}'\".format(science_keyword)\n",
    "    query_results = Alma.query_tap(full_query)\n",
    "\n",
    "    #convert results to df and clean up\n",
    "    result_df = query_results.to_table().to_pandas()\n",
    "    result_df.loc[:, result_df.dtypes == object] = result_df.loc[:, result_df.dtypes == object].apply(lambda x: x.str.decode('utf-8'))\n",
    "\n",
    "    #filter results if desired\n",
    "    if min_year is not None:\n",
    "        if type(min_year) != int:\n",
    "            min_year = int(min_year)\n",
    "        result_df = result_df[result_df['proposal_id'].str[0:4].astype(int) >= min_year]\n",
    "\n",
    "    #save results if desired\n",
    "    if save_file_path is not None:\n",
    "        result_df.to_csv(save_file_path, index = False)\n",
    "\n",
    "    return(result_df['member_ous_uid'].unique())"
   ]
  },
  {
   "cell_type": "code",
   "execution_count": null,
   "metadata": {},
   "outputs": [],
   "source": [
    "mous = get_mous('Outflows, jets and ionized winds', FILE_PATH, min_year = 2018)"
   ]
  },
  {
   "cell_type": "markdown",
   "metadata": {},
   "source": [
    "### Get FITS Links\n",
    "\n",
    "Next, we gather the FITS file links associated with each MOUS ID. This follows the same process as the single MOUS download, but uses a loop to gather all file links."
   ]
  },
  {
   "cell_type": "code",
   "execution_count": null,
   "metadata": {},
   "outputs": [],
   "source": [
    "def get_fits_links(mous_list, trim = True):\n",
    "    \"\"\"Get file links from mous IDs\n",
    "    Returns list of links to fits files\n",
    "    mous_list: list of mous IDs (strings)\n",
    "    trim: filter to just continuum fits files or not\n",
    "    \"\"\"\n",
    "\n",
    "    all_links = pd.DataFrame()\n",
    "    error_ids = []\n",
    "    for mous_id in mous_list:\n",
    "        try:\n",
    "            mous_links = alma.stage_data([mous_id], expand_tarfiles=True)['URL']\n",
    "            all_links = all_links.append(pd.DataFrame(mous_links))\n",
    "        except:\n",
    "            error_ids.append(mous_id)\n",
    "\n",
    "    if trim:\n",
    "        trimmed_links = all_links[all_links['URL'].str.contains('cont') & all_links['URL'].str.contains('fits.tar')]['URL']\n",
    "\n",
    "        return trimmed_links, error_ids\n",
    "    else:\n",
    "        return all_links, error_ids"
   ]
  },
  {
   "cell_type": "code",
   "execution_count": null,
   "metadata": {},
   "outputs": [],
   "source": [
    "links, _ = get_fits_links(mous)"
   ]
  },
  {
   "cell_type": "markdown",
   "metadata": {},
   "source": [
    "### Download FITS Files from Links\n",
    "\n",
    "Finally, we download the FITS files. The files initially are downloaded as zipped tarballs. When unzipped, the actual .fits file is buried a couple levels down in a nested folder structure. We added some clean up functionality to optionally pull the .fits files out of the subfolders into the root of the specified directory and to delete the .tar files after unzipping. If using this functionality, be very careful about your current working directory (or specified cache location), as this will impact all .tar files in the given location."
   ]
  },
  {
   "cell_type": "code",
   "execution_count": null,
   "metadata": {},
   "outputs": [],
   "source": [
    "def download_all_fits(fits_links, cache_location = None, unzip=True, unnest=True, del_tar=False):\n",
    "    \"\"\"Download and optionally unzip all FITS files from a list of mous IDs\n",
    "    mous_list_loc: path to csv with mous IDs for a given search term\n",
    "    cache_location: path to save downloaded files to (default current working directory)\n",
    "    unzip: binary whether or not to unzip tar files\n",
    "    unnest: if true, move fits files out of nested subpath\n",
    "    del_tar: if true, remove tar files after unzipping\n",
    "    \"\"\"\n",
    "\n",
    "    #set location to download to\n",
    "    if cache_location is None:\n",
    "        cache_location = os.getcwd()\n",
    "    alma.cache_location = cache_location # --> if you want to download to a specific directory\n",
    "\n",
    "    error_links = []\n",
    "    #download fits files to that location\n",
    "    for link in fits_links:\n",
    "        try:\n",
    "            alma.download_files([link])\n",
    "        except:\n",
    "            error_links.append(link)\n",
    "\n",
    "    #unzip files\n",
    "    if unzip:\n",
    "        #get list of tar files in directory\n",
    "        dir_files = os.listdir()\n",
    "        tar_files = [s for s in dir_files if s.endswith('.tar')]\n",
    "\n",
    "        for tar_file in tar_files:\n",
    "            #unzip file\n",
    "            tar = tarfile.open(tar_file)\n",
    "            tar_names = tar.getnames()\n",
    "\n",
    "            tar.extractall(cache_location)\n",
    "            tar.close()\n",
    "\n",
    "            if unnest:\n",
    "                for name in tar_names:\n",
    "                    #move fits file out of subfolder\n",
    "                    shutil.move(name, name.split('/')[-1])\n",
    "                    #delete now-empty subfolder\n",
    "                    shutil.rmtree(name.split('/', 1)[0] + '/')\n",
    "            if del_tar:\n",
    "                #delete tar file\n",
    "                os.remove(tar_file)\n",
    "\n",
    "    return error_links"
   ]
  },
  {
   "cell_type": "code",
   "execution_count": null,
   "metadata": {},
   "outputs": [],
   "source": [
    "download_all_fits(links)"
   ]
  },
  {
   "cell_type": "markdown",
   "metadata": {},
   "source": [
    "## List of ALMA Science Keywords\n",
    "\n",
    "As of June 2021, the full list of ALMA science keywords is as follows:\n",
    "\n",
    "Active galaxies\n",
    "* Active Galactic Nuclei (AGN)/Quasars (QSO)\n",
    "* Galactic centres/nuclei\n",
    "* High-z Active Galactic Nuclei (AGN)\n",
    "* Outflows, jets, feedback\n",
    "* Starburst galaxies\n",
    "* Starbursts, star formation\n",
    "\n",
    "Cosmology\n",
    "* Cosmic Microwave Background (CMB)/Sunyaev-Zel'dovich Effect (SZE)\n",
    "* Damped Lyman Alpha (DLA) systems\n",
    "* Galaxy Clusters\n",
    "* Galaxy groups and clusters\n",
    "* Gamma Ray Bursts (GRB)\n",
    "* Gravitational lenses\n",
    "\n",
    "Disks and planet formation\n",
    "* Debris disks\n",
    "* Disks around high-mass stars\n",
    "* Disks around low-mass stars\n",
    "* Exo-planets\n",
    "\n",
    "Galaxy evolution\n",
    "* Early-type galaxies\n",
    "* Galaxy chemistry\n",
    "* Galaxy structure & evolution\n",
    "* Luminous and Ultra-Luminous Infra-Red Galaxies (LIRG & ULIRG)\n",
    "* Lyman Alpha Emitters/Blobs (LAE/LAB)\n",
    "* Lyman Break Galaxies (LBG)\n",
    "* Merging and interacting galaxies\n",
    "* Sub-mm Galaxies (SMG)\n",
    "* Surveys of galaxies\n",
    " \n",
    "ISM and star formation\n",
    "* Astrochemistry\n",
    "* Giant Molecular Clouds (GMC) properties\n",
    "* High-mass star formation\n",
    "* HII regions\n",
    "* Inter-Stellar Medium (ISM)/Molecular clouds\n",
    "* Intermediate-mass star formation\n",
    "* Low-mass star formation\n",
    "* Outflows, jets and ionized winds\n",
    "* Photon-Dominated Regions (PDR)/X-Ray Dominated Regions (XDR)\n",
    "* Pre-stellar cores, Infra-Red Dark Clouds (IRDC)\n",
    "\n",
    "Local Universe\n",
    "* Dwarf/metal-poor galaxies\n",
    "* Magellanic Clouds\n",
    "* Spiral galaxies\n",
    "\n",
    "Solar system\n",
    "* Solar system - Asteroids\n",
    "* Solar system - Comets\n",
    "* Solar system - Planetary atmospheres\n",
    "* Solar system - Planetary surfaces\n",
    "* Solar system - Trans-Neptunian Objects (TNOs)\n",
    "\n",
    "Stars and stellar evolution\n",
    "* Asymptotic Giant Branch (AGB) stars\n",
    "* Black holes\n",
    "* Brown dwarfs\n",
    "* Cataclysmic stars\n",
    "* Evolved stars - Chemistry\n",
    "* Evolved stars - Shaping/physical structure\n",
    "* Hypergiants\n",
    "* Luminous Blue Variables (LBV)\n",
    "* Main sequence stars\n",
    "* Post-AGB stars\n",
    "* Pulsars and neutron stars\n",
    "* Supernovae (SN) ejecta\n",
    "* Transients\n",
    "* White dwarfs\n",
    "\n",
    "Sun\n",
    "* The Sun"
   ]
  }
 ],
 "metadata": {
  "kernelspec": {
   "display_name": "Python 3",
   "language": "python",
   "name": "python3"
  },
  "language_info": {
   "codemirror_mode": {
    "name": "ipython",
    "version": 3
   },
   "file_extension": ".py",
   "mimetype": "text/x-python",
   "name": "python",
   "nbconvert_exporter": "python",
   "pygments_lexer": "ipython3",
   "version": "3.7.6"
  }
 },
 "nbformat": 4,
 "nbformat_minor": 4
}
