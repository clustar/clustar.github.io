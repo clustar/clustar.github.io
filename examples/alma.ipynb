{
 "cells": [
  {
   "cell_type": "markdown",
   "metadata": {},
   "source": [
    "## Getting Started\n",
    "\n",
    "[Astroquery](https://astroquery.readthedocs.io/en/latest/index.html) is a python package that can help us obtain specific FITS files from the [ALMA Science Archive](https://almascience.nrao.edu/aq/). If this package is not already installed, run the following code in the Anaconda terminal.\n",
    "\n",
    "```\n",
    "conda install -c conda-forge astroquery\n",
    "```"
   ]
  },
  {
   "cell_type": "code",
   "execution_count": 1,
   "metadata": {},
   "outputs": [],
   "source": [
    "# Imports\n",
    "import os\n",
    "import numpy as np\n",
    "from astroquery.alma import Alma"
   ]
  },
  {
   "cell_type": "code",
   "execution_count": 2,
   "metadata": {},
   "outputs": [],
   "source": [
    "# Setup\n",
    "alma = Alma()\n",
    "alma.archive_url = 'https://almascience.nrao.edu'"
   ]
  },
  {
   "cell_type": "markdown",
   "metadata": {},
   "source": [
    "## FITS Files from a Single Project\n",
    "\n",
    "Each project in the ALMA Science Archive has an associated \"member ous id\" (MOUS) for unique identification. Given a MOUS, the following series of cells will extract the continuum FITS files from this project. For additional information, please visit this [documentation](https://astroquery.readthedocs.io/en/latest/alma/alma.html#downloading-data) on Astroquery."
   ]
  },
  {
   "cell_type": "code",
   "execution_count": 3,
   "metadata": {},
   "outputs": [],
   "source": [
    "# Specify MOUS.\n",
    "MOUS = 'uid://A001/X2f7/Xe9'\n",
    "\n",
    "# Specify path to store extracted FITS files.\n",
    "PATH = './data'\n",
    "\n",
    "# All FITS files must have these link attributes:\n",
    "INCLUDE = ['pbcor', 'fits']\n",
    "\n",
    "# All FITS files must have at least one of these link attributes:\n",
    "OPTIONAL = ['cont', 'mfs'] \n",
    "\n",
    "# All FITS files cannot have these link attributes:\n",
    "EXCLUDE = ['cube']"
   ]
  },
  {
   "cell_type": "code",
   "execution_count": 4,
   "metadata": {},
   "outputs": [
    {
     "data": {
      "text/plain": [
       "21"
      ]
     },
     "execution_count": 4,
     "metadata": {},
     "output_type": "execute_result"
    }
   ],
   "source": [
    "# Stage data\n",
    "links = alma.stage_data([MOUS], expand_tarfiles=True)['URL']\n",
    "\n",
    "# Process links\n",
    "links = [link for link in links if all(term in link for term in INCLUDE)]\n",
    "links = [link for link in links if any(term in link for term in OPTIONAL)]\n",
    "links = [link for link in links if all(term not in link for term in EXCLUDE)]\n",
    "\n",
    "# Count of FITS files\n",
    "len(links)"
   ]
  },
  {
   "cell_type": "code",
   "execution_count": 5,
   "metadata": {
    "tags": []
   },
   "outputs": [
    {
     "name": "stdout",
     "output_type": "stream",
     "text": [
      "Downloading URL https://almascience.nrao.edu/dataPortal/member.uid___A001_X2f7_Xe9.J1832-2039_ph.spw25.mfs.I.pbcor.fits to ./data\\member.uid___A001_X2f7_Xe9.J1832-2039_ph.spw25.mfs.I.pbcor.fits ... [Done]\n",
      "Downloading URL https://almascience.nrao.edu/dataPortal/member.uid___A001_X2f7_Xe9.J1832-2039_ph.spw27.mfs.I.pbcor.fits to ./data\\member.uid___A001_X2f7_Xe9.J1832-2039_ph.spw27.mfs.I.pbcor.fits ... [Done]\n",
      "Downloading URL https://almascience.nrao.edu/dataPortal/member.uid___A001_X2f7_Xe9.J1832-2039_ph.spw29.mfs.I.pbcor.fits to ./data\\member.uid___A001_X2f7_Xe9.J1832-2039_ph.spw29.mfs.I.pbcor.fits ... [Done]\n",
      "Downloading URL https://almascience.nrao.edu/dataPortal/member.uid___A001_X2f7_Xe9.J1832-2039_ph.spw31.mfs.I.pbcor.fits to ./data\\member.uid___A001_X2f7_Xe9.J1832-2039_ph.spw31.mfs.I.pbcor.fits ... [Done]\n",
      "Downloading URL https://almascience.nrao.edu/dataPortal/member.uid___A001_X2f7_Xe9.J1838-1853_chk.spw25.mfs.I.pbcor.fits to ./data\\member.uid___A001_X2f7_Xe9.J1838-1853_chk.spw25.mfs.I.pbcor.fits ... [Done]\n",
      "Downloading URL https://almascience.nrao.edu/dataPortal/member.uid___A001_X2f7_Xe9.J1838-1853_chk.spw27.mfs.I.pbcor.fits to ./data\\member.uid___A001_X2f7_Xe9.J1838-1853_chk.spw27.mfs.I.pbcor.fits ... [Done]\n",
      "Downloading URL https://almascience.nrao.edu/dataPortal/member.uid___A001_X2f7_Xe9.J1838-1853_chk.spw29.mfs.I.pbcor.fits to ./data\\member.uid___A001_X2f7_Xe9.J1838-1853_chk.spw29.mfs.I.pbcor.fits ... [Done]\n",
      "Downloading URL https://almascience.nrao.edu/dataPortal/member.uid___A001_X2f7_Xe9.J1838-1853_chk.spw31.mfs.I.pbcor.fits to ./data\\member.uid___A001_X2f7_Xe9.J1838-1853_chk.spw31.mfs.I.pbcor.fits ... [Done]\n",
      "Downloading URL https://almascience.nrao.edu/dataPortal/member.uid___A001_X2f7_Xe9.J1845-2200_chk.spw25.mfs.I.pbcor.fits to ./data\\member.uid___A001_X2f7_Xe9.J1845-2200_chk.spw25.mfs.I.pbcor.fits ... [Done]\n",
      "Downloading URL https://almascience.nrao.edu/dataPortal/member.uid___A001_X2f7_Xe9.J1845-2200_chk.spw27.mfs.I.pbcor.fits to ./data\\member.uid___A001_X2f7_Xe9.J1845-2200_chk.spw27.mfs.I.pbcor.fits ... [Done]\n",
      "Downloading URL https://almascience.nrao.edu/dataPortal/member.uid___A001_X2f7_Xe9.J1845-2200_chk.spw29.mfs.I.pbcor.fits to ./data\\member.uid___A001_X2f7_Xe9.J1845-2200_chk.spw29.mfs.I.pbcor.fits ... [Done]\n",
      "Downloading URL https://almascience.nrao.edu/dataPortal/member.uid___A001_X2f7_Xe9.J1845-2200_chk.spw31.mfs.I.pbcor.fits to ./data\\member.uid___A001_X2f7_Xe9.J1845-2200_chk.spw31.mfs.I.pbcor.fits ... [Done]\n",
      "Downloading URL https://almascience.nrao.edu/dataPortal/member.uid___A001_X2f7_Xe9.J1911-2006_ph.spw25.mfs.I.pbcor.fits to ./data\\member.uid___A001_X2f7_Xe9.J1911-2006_ph.spw25.mfs.I.pbcor.fits ... [Done]\n",
      "Downloading URL https://almascience.nrao.edu/dataPortal/member.uid___A001_X2f7_Xe9.J1911-2006_ph.spw27.mfs.I.pbcor.fits to ./data\\member.uid___A001_X2f7_Xe9.J1911-2006_ph.spw27.mfs.I.pbcor.fits ... [Done]\n",
      "Downloading URL https://almascience.nrao.edu/dataPortal/member.uid___A001_X2f7_Xe9.J1911-2006_ph.spw29.mfs.I.pbcor.fits to ./data\\member.uid___A001_X2f7_Xe9.J1911-2006_ph.spw29.mfs.I.pbcor.fits ... [Done]\n",
      "Downloading URL https://almascience.nrao.edu/dataPortal/member.uid___A001_X2f7_Xe9.J1911-2006_ph.spw31.mfs.I.pbcor.fits to ./data\\member.uid___A001_X2f7_Xe9.J1911-2006_ph.spw31.mfs.I.pbcor.fits ... [Done]\n",
      "Downloading URL https://almascience.nrao.edu/dataPortal/member.uid___A001_X2f7_Xe9.J1924-2914_bp.spw25.mfs.I.pbcor.fits to ./data\\member.uid___A001_X2f7_Xe9.J1924-2914_bp.spw25.mfs.I.pbcor.fits ... [Done]\n",
      "Downloading URL https://almascience.nrao.edu/dataPortal/member.uid___A001_X2f7_Xe9.J1924-2914_bp.spw27.mfs.I.pbcor.fits to ./data\\member.uid___A001_X2f7_Xe9.J1924-2914_bp.spw27.mfs.I.pbcor.fits ... [Done]\n",
      "Downloading URL https://almascience.nrao.edu/dataPortal/member.uid___A001_X2f7_Xe9.J1924-2914_bp.spw29.mfs.I.pbcor.fits to ./data\\member.uid___A001_X2f7_Xe9.J1924-2914_bp.spw29.mfs.I.pbcor.fits ... [Done]\n",
      "Downloading URL https://almascience.nrao.edu/dataPortal/member.uid___A001_X2f7_Xe9.J1924-2914_bp.spw31.mfs.I.pbcor.fits to ./data\\member.uid___A001_X2f7_Xe9.J1924-2914_bp.spw31.mfs.I.pbcor.fits ... [Done]\n",
      "Downloading URL https://almascience.nrao.edu/dataPortal/member.uid___A001_X2f7_Xe9.V4332_Sgr_sci.spw25_27_29_31.cont.I.pbcor.fits to ./data\\member.uid___A001_X2f7_Xe9.V4332_Sgr_sci.spw25_27_29_31.cont.I.pbcor.fits ... [Done]\n"
     ]
    },
    {
     "data": {
      "text/plain": [
       "['./data\\\\member.uid___A001_X2f7_Xe9.J1832-2039_ph.spw25.mfs.I.pbcor.fits',\n",
       " './data\\\\member.uid___A001_X2f7_Xe9.J1832-2039_ph.spw27.mfs.I.pbcor.fits',\n",
       " './data\\\\member.uid___A001_X2f7_Xe9.J1832-2039_ph.spw29.mfs.I.pbcor.fits',\n",
       " './data\\\\member.uid___A001_X2f7_Xe9.J1832-2039_ph.spw31.mfs.I.pbcor.fits',\n",
       " './data\\\\member.uid___A001_X2f7_Xe9.J1838-1853_chk.spw25.mfs.I.pbcor.fits',\n",
       " './data\\\\member.uid___A001_X2f7_Xe9.J1838-1853_chk.spw27.mfs.I.pbcor.fits',\n",
       " './data\\\\member.uid___A001_X2f7_Xe9.J1838-1853_chk.spw29.mfs.I.pbcor.fits',\n",
       " './data\\\\member.uid___A001_X2f7_Xe9.J1838-1853_chk.spw31.mfs.I.pbcor.fits',\n",
       " './data\\\\member.uid___A001_X2f7_Xe9.J1845-2200_chk.spw25.mfs.I.pbcor.fits',\n",
       " './data\\\\member.uid___A001_X2f7_Xe9.J1845-2200_chk.spw27.mfs.I.pbcor.fits',\n",
       " './data\\\\member.uid___A001_X2f7_Xe9.J1845-2200_chk.spw29.mfs.I.pbcor.fits',\n",
       " './data\\\\member.uid___A001_X2f7_Xe9.J1845-2200_chk.spw31.mfs.I.pbcor.fits',\n",
       " './data\\\\member.uid___A001_X2f7_Xe9.J1911-2006_ph.spw25.mfs.I.pbcor.fits',\n",
       " './data\\\\member.uid___A001_X2f7_Xe9.J1911-2006_ph.spw27.mfs.I.pbcor.fits',\n",
       " './data\\\\member.uid___A001_X2f7_Xe9.J1911-2006_ph.spw29.mfs.I.pbcor.fits',\n",
       " './data\\\\member.uid___A001_X2f7_Xe9.J1911-2006_ph.spw31.mfs.I.pbcor.fits',\n",
       " './data\\\\member.uid___A001_X2f7_Xe9.J1924-2914_bp.spw25.mfs.I.pbcor.fits',\n",
       " './data\\\\member.uid___A001_X2f7_Xe9.J1924-2914_bp.spw27.mfs.I.pbcor.fits',\n",
       " './data\\\\member.uid___A001_X2f7_Xe9.J1924-2914_bp.spw29.mfs.I.pbcor.fits',\n",
       " './data\\\\member.uid___A001_X2f7_Xe9.J1924-2914_bp.spw31.mfs.I.pbcor.fits',\n",
       " './data\\\\member.uid___A001_X2f7_Xe9.V4332_Sgr_sci.spw25_27_29_31.cont.I.pbcor.fits']"
      ]
     },
     "execution_count": 5,
     "metadata": {},
     "output_type": "execute_result"
    }
   ],
   "source": [
    "# Make folder if directory does not exist.\n",
    "if not os.path.exists(PATH):\n",
    "    os.mkdir(PATH)\n",
    "\n",
    "# Download FITS files.\n",
    "alma.download_files(links, \n",
    "                    savedir=PATH, \n",
    "                    cache=True) # Turn off cache to re-download FITS files."
   ]
  }
 ],
 "metadata": {
  "kernelspec": {
   "display_name": "Python 3",
   "language": "python",
   "name": "python3"
  },
  "language_info": {
   "codemirror_mode": {
    "name": "ipython",
    "version": 3
   },
   "file_extension": ".py",
   "mimetype": "text/x-python",
   "name": "python",
   "nbconvert_exporter": "python",
   "pygments_lexer": "ipython3",
   "version": "3.8.5"
  }
 },
 "nbformat": 4,
 "nbformat_minor": 4
}
